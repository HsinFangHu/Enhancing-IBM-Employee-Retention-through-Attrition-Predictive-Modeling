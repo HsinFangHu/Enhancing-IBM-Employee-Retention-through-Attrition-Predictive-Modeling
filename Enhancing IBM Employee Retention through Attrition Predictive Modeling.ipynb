{
 "cells": [
  {
   "cell_type": "markdown",
   "id": "3f9a0994",
   "metadata": {},
   "source": [
    "# Predicting IBM Employee Attrition: Logistic Regression vs. Random Forest"
   ]
  },
  {
   "attachments": {},
   "cell_type": "markdown",
   "id": "d9425003",
   "metadata": {},
   "source": [
    "### Description\n",
    "The report analyzes employee attrition using data from the \"IBM.csv\" dataset and builds two predictive models: Logistic Regression and Random Forest. It preprocesses the data, encodes categorical variables, and creates dummy variables. <br>\n",
    "The Logistic Regression model achieves an 86.90% accuracy rate and perfect specificity, while the Random Forest model achieves an 86.39% accuracy rate and higher sensitivity. Key features influencing attrition, such as monthly income and years at the company, are identified. The report highlights potential overfitting in both models and suggests model refinement.<br>\n",
    "Overall, it offers valuable insights for HR decision-making to implement retention strategies and foster a positive work environment, reducing attrition and enhancing organizational stability.<br>\n",
    "\n",
    "###  Objectives\n",
    "1.\tPredictive Modeling for Attrition:<br>\n",
    "● Develop and evaluate predictive models, such as Logistic Regression and Random Forest, to forecast employee attrition based on historical data.<br>\n",
    "● Assess the performance of these models using accuracy, sensitivity, specificity, precision, and balanced accuracy metrics.<br>\n",
    "2.\tFeature Importance Analysis:<br>\n",
    "● Identify key drivers of employee attrition by conducting feature importance analysis on the predictive models.<br>\n",
    "● Gain insights into which variables have the most significant impact on attrition predictions and inform HR about critical factors affecting retention.<br>\n",
    "3.\tHR Recommendations for Retention:<br>\n",
    "● Provide data-driven recommendations and actionable strategies for the Human Resources Department to reduce employee attrition.<br>\n",
    "● Suggest targeted initiatives, such as improving job satisfaction, offering competitive compensation, and enhancing work-life balance to enhance employee retention.<br>"
   ]
  },
  {
   "cell_type": "code",
   "execution_count": 1,
   "id": "e0a18b83",
   "metadata": {},
   "outputs": [],
   "source": [
    "import pandas as pd\n",
    "import numpy as np\n",
    "import matplotlib.pyplot as plt\n",
    "%matplotlib inline \n",
    "import seaborn as sns"
   ]
  },
  {
   "cell_type": "markdown",
   "id": "9340040f",
   "metadata": {},
   "source": [
    "### I. Logistic Regression Model"
   ]
  },
  {
   "cell_type": "code",
   "execution_count": 43,
   "id": "4e103244",
   "metadata": {
    "scrolled": true
   },
   "outputs": [
    {
     "data": {
      "text/html": [
       "<div>\n",
       "<style scoped>\n",
       "    .dataframe tbody tr th:only-of-type {\n",
       "        vertical-align: middle;\n",
       "    }\n",
       "\n",
       "    .dataframe tbody tr th {\n",
       "        vertical-align: top;\n",
       "    }\n",
       "\n",
       "    .dataframe thead th {\n",
       "        text-align: right;\n",
       "    }\n",
       "</style>\n",
       "<table border=\"1\" class=\"dataframe\">\n",
       "  <thead>\n",
       "    <tr style=\"text-align: right;\">\n",
       "      <th></th>\n",
       "      <th>Age</th>\n",
       "      <th>Attrition</th>\n",
       "      <th>Department</th>\n",
       "      <th>DistanceFromHome</th>\n",
       "      <th>Education</th>\n",
       "      <th>EducationField</th>\n",
       "      <th>EnvironmentSatisfaction</th>\n",
       "      <th>JobSatisfaction</th>\n",
       "      <th>MaritalStatus</th>\n",
       "      <th>MonthlyIncome</th>\n",
       "      <th>NumCompaniesWorked</th>\n",
       "      <th>WorkLifeBalance</th>\n",
       "      <th>YearsAtCompany</th>\n",
       "    </tr>\n",
       "  </thead>\n",
       "  <tbody>\n",
       "    <tr>\n",
       "      <th>0</th>\n",
       "      <td>41</td>\n",
       "      <td>Yes</td>\n",
       "      <td>Sales</td>\n",
       "      <td>1</td>\n",
       "      <td>2</td>\n",
       "      <td>Life Sciences</td>\n",
       "      <td>2</td>\n",
       "      <td>4</td>\n",
       "      <td>Single</td>\n",
       "      <td>5993</td>\n",
       "      <td>8</td>\n",
       "      <td>1</td>\n",
       "      <td>6</td>\n",
       "    </tr>\n",
       "    <tr>\n",
       "      <th>1</th>\n",
       "      <td>49</td>\n",
       "      <td>No</td>\n",
       "      <td>Research &amp; Development</td>\n",
       "      <td>8</td>\n",
       "      <td>1</td>\n",
       "      <td>Life Sciences</td>\n",
       "      <td>3</td>\n",
       "      <td>2</td>\n",
       "      <td>Married</td>\n",
       "      <td>5130</td>\n",
       "      <td>1</td>\n",
       "      <td>3</td>\n",
       "      <td>10</td>\n",
       "    </tr>\n",
       "    <tr>\n",
       "      <th>2</th>\n",
       "      <td>37</td>\n",
       "      <td>Yes</td>\n",
       "      <td>Research &amp; Development</td>\n",
       "      <td>2</td>\n",
       "      <td>2</td>\n",
       "      <td>Other</td>\n",
       "      <td>4</td>\n",
       "      <td>3</td>\n",
       "      <td>Single</td>\n",
       "      <td>2090</td>\n",
       "      <td>6</td>\n",
       "      <td>3</td>\n",
       "      <td>0</td>\n",
       "    </tr>\n",
       "    <tr>\n",
       "      <th>3</th>\n",
       "      <td>33</td>\n",
       "      <td>No</td>\n",
       "      <td>Research &amp; Development</td>\n",
       "      <td>3</td>\n",
       "      <td>4</td>\n",
       "      <td>Life Sciences</td>\n",
       "      <td>4</td>\n",
       "      <td>3</td>\n",
       "      <td>Married</td>\n",
       "      <td>2909</td>\n",
       "      <td>1</td>\n",
       "      <td>3</td>\n",
       "      <td>8</td>\n",
       "    </tr>\n",
       "    <tr>\n",
       "      <th>4</th>\n",
       "      <td>27</td>\n",
       "      <td>No</td>\n",
       "      <td>Research &amp; Development</td>\n",
       "      <td>2</td>\n",
       "      <td>1</td>\n",
       "      <td>Medical</td>\n",
       "      <td>1</td>\n",
       "      <td>2</td>\n",
       "      <td>Married</td>\n",
       "      <td>3468</td>\n",
       "      <td>9</td>\n",
       "      <td>3</td>\n",
       "      <td>2</td>\n",
       "    </tr>\n",
       "  </tbody>\n",
       "</table>\n",
       "</div>"
      ],
      "text/plain": [
       "   Age Attrition              Department  DistanceFromHome  Education  \\\n",
       "0   41       Yes                   Sales                 1          2   \n",
       "1   49        No  Research & Development                 8          1   \n",
       "2   37       Yes  Research & Development                 2          2   \n",
       "3   33        No  Research & Development                 3          4   \n",
       "4   27        No  Research & Development                 2          1   \n",
       "\n",
       "  EducationField  EnvironmentSatisfaction  JobSatisfaction MaritalStatus  \\\n",
       "0  Life Sciences                        2                4        Single   \n",
       "1  Life Sciences                        3                2       Married   \n",
       "2          Other                        4                3        Single   \n",
       "3  Life Sciences                        4                3       Married   \n",
       "4        Medical                        1                2       Married   \n",
       "\n",
       "   MonthlyIncome  NumCompaniesWorked  WorkLifeBalance  YearsAtCompany  \n",
       "0           5993                   8                1               6  \n",
       "1           5130                   1                3              10  \n",
       "2           2090                   6                3               0  \n",
       "3           2909                   1                3               8  \n",
       "4           3468                   9                3               2  "
      ]
     },
     "execution_count": 43,
     "metadata": {},
     "output_type": "execute_result"
    }
   ],
   "source": [
    "myData = pd.read_csv('IBM.csv')\n",
    "myData.head()"
   ]
  },
  {
   "cell_type": "markdown",
   "id": "73940825",
   "metadata": {},
   "source": [
    "Categorical Variables:<br> \n",
    "Attrition: Employee attrition status<br> \n",
    "Department: Department of work<br> \n",
    "EducationField<br> \n",
    "MaritalStatus<br> \n",
    "<br> \n",
    "Ordinal Variables:<br> \n",
    "Education<br> \n",
    "EnvironmentSatisfaction<br> \n",
    "JobSatisfaction<br> \n",
    "WorkLifeBalance<br> \n",
    "<br> \n",
    "Numerical Variables:<br> \n",
    "Age: Age of employee<br> \n",
    "DistanceFromHome<br> \n",
    "MonthlyIncome<br> \n",
    "NumCompaniesWorked<br> \n",
    "YearsAtCompany<br> \n",
    "<br> "
   ]
  },
  {
   "cell_type": "code",
   "execution_count": 44,
   "id": "7f1bec30",
   "metadata": {
    "scrolled": false
   },
   "outputs": [
    {
     "data": {
      "text/plain": [
       "No     1233\n",
       "Yes     237\n",
       "Name: Attrition, dtype: int64"
      ]
     },
     "execution_count": 44,
     "metadata": {},
     "output_type": "execute_result"
    }
   ],
   "source": [
    "attrition_counts = myData['Attrition'].value_counts()\n",
    "attrition_counts"
   ]
  },
  {
   "cell_type": "markdown",
   "id": "dd0a2c32",
   "metadata": {},
   "source": [
    "a. <br> \n",
    "From these findings, we can describe the distribution of attrition status in the dataset as follows:\n",
    "The \"No\" class is the majority class, with 1233 occurrences, indicating that a significant portion of employees in the dataset did not experience attrition.\n",
    "The \"Yes\" class is the minority class, with 237 occurrences, suggesting that a smaller portion of employees experienced attrition.\n",
    "This information provides insights into the prevalence of attrition in the dataset, indicating that attrition is relatively less common compared to employees who did not experience attrition.<br> \n",
    "\n",
    "b. <br> \n",
    "Oversampling is used to address class imbalance in a dataset, where one class is significantly underrepresented. It involves artificially increasing the number of instances in the minority class by duplicating existing instances or generating synthetic data. By creating a balanced dataset, machine learning models can learn from more examples of the minority class, improving their ability to correctly classify instances from that class. This helps overcome the bias and performance issues caused by class imbalance, especially in scenarios where the minority class is important.<br>"
   ]
  },
  {
   "cell_type": "code",
   "execution_count": 45,
   "id": "837317c0",
   "metadata": {
    "scrolled": true
   },
   "outputs": [
    {
     "data": {
      "text/plain": [
       "0       1\n",
       "1       0\n",
       "2       1\n",
       "3       0\n",
       "4       0\n",
       "       ..\n",
       "1465    0\n",
       "1466    0\n",
       "1467    0\n",
       "1468    0\n",
       "1469    0\n",
       "Name: Attrition, Length: 1470, dtype: int64"
      ]
     },
     "execution_count": 45,
     "metadata": {},
     "output_type": "execute_result"
    }
   ],
   "source": [
    "from sklearn.preprocessing import LabelEncoder\n",
    "label_encoder = LabelEncoder()\n",
    "myData['Attrition'] = label_encoder.fit_transform(myData['Attrition'])\n",
    "myData['Attrition']"
   ]
  },
  {
   "cell_type": "code",
   "execution_count": 46,
   "id": "b61db71f",
   "metadata": {},
   "outputs": [
    {
     "data": {
      "text/plain": [
       "Age                        0\n",
       "Attrition                  0\n",
       "Department                 0\n",
       "DistanceFromHome           0\n",
       "Education                  0\n",
       "EducationField             0\n",
       "EnvironmentSatisfaction    0\n",
       "JobSatisfaction            0\n",
       "MaritalStatus              0\n",
       "MonthlyIncome              0\n",
       "NumCompaniesWorked         0\n",
       "WorkLifeBalance            0\n",
       "YearsAtCompany             0\n",
       "dtype: int64"
      ]
     },
     "execution_count": 46,
     "metadata": {},
     "output_type": "execute_result"
    }
   ],
   "source": [
    "missing_values = myData.isnull().sum()\n",
    "missing_values"
   ]
  },
  {
   "cell_type": "markdown",
   "id": "6c2727ce",
   "metadata": {},
   "source": [
    "Fortunately there are no missing values in this dataset. So we don't need to remove missing values. <br> \n",
    "There are several reasons why imputing values for variables with a huge percentage of missingness can be dangerous:<br> \n",
    "1. Data Distortion: Imputing missing values can change the data in a way that may not reflect its true nature, potentially distorting the patterns and relationships between variables.\n",
    "2. Information Loss: Missing values often contain important information, and imputing values can result in the loss of valuable insights that could affect the analysis.\n",
    "3. Increased Bias: Imputing values can introduce bias if the method used doesn't accurately capture the underlying patterns and relationships in the data.\n",
    "4. Misrepresentation of Uncertainty: Imputation methods typically provide a single value for missing data, ignoring the uncertainty associated with those values, which can lead to misleading interpretations.\n",
    "5. Amplification of Existing Biases: Imputing values without considering the reasons for missingness may amplify existing biases in the data and potentially reinforce unfair practices."
   ]
  },
  {
   "cell_type": "code",
   "execution_count": 58,
   "id": "92303718",
   "metadata": {},
   "outputs": [
    {
     "data": {
      "image/png": "[encoded data removed]",
      "text/plain": [
       "<Figure size 720x576 with 2 Axes>"
      ]
     },
     "metadata": {
      "needs_background": "light"
     },
     "output_type": "display_data"
    }
   ],
   "source": [
    "correlation_matrix = myData.corr()\n",
    "plt.figure(figsize=(10, 8))\n",
    "sns.heatmap(correlation_matrix, annot=True, cmap='coolwarm', fmt='.2f')\n",
    "plt.title('Correlation Matrix')\n",
    "plt.show()"
   ]
  },
  {
   "cell_type": "markdown",
   "id": "63fba720",
   "metadata": {},
   "source": [
    "So first, we have to determine how high the correlations should be removed to avoid multicollinearity. For the correlation threshold, a commonly used threshold is 0.7 or 0.8. Variables with correlation coefficients above this threshold may be considered highly correlated and could be candidates for removal. I checked the table and none of the values are above 0.7, so we don't have to delete any variables."
   ]
  },
  {
   "cell_type": "code",
   "execution_count": 48,
   "id": "633f332b",
   "metadata": {
    "scrolled": true
   },
   "outputs": [
    {
     "data": {
      "text/html": [
       "<div>\n",
       "<style scoped>\n",
       "    .dataframe tbody tr th:only-of-type {\n",
       "        vertical-align: middle;\n",
       "    }\n",
       "\n",
       "    .dataframe tbody tr th {\n",
       "        vertical-align: top;\n",
       "    }\n",
       "\n",
       "    .dataframe thead th {\n",
       "        text-align: right;\n",
       "    }\n",
       "</style>\n",
       "<table border=\"1\" class=\"dataframe\">\n",
       "  <thead>\n",
       "    <tr style=\"text-align: right;\">\n",
       "      <th></th>\n",
       "      <th>Age</th>\n",
       "      <th>Attrition</th>\n",
       "      <th>DistanceFromHome</th>\n",
       "      <th>Education</th>\n",
       "      <th>EnvironmentSatisfaction</th>\n",
       "      <th>JobSatisfaction</th>\n",
       "      <th>MonthlyIncome</th>\n",
       "      <th>NumCompaniesWorked</th>\n",
       "      <th>WorkLifeBalance</th>\n",
       "      <th>YearsAtCompany</th>\n",
       "      <th>Department_Research &amp; Development</th>\n",
       "      <th>Department_Sales</th>\n",
       "      <th>EducationField_Life Sciences</th>\n",
       "      <th>EducationField_Marketing</th>\n",
       "      <th>EducationField_Medical</th>\n",
       "      <th>EducationField_Other</th>\n",
       "      <th>EducationField_Technical Degree</th>\n",
       "      <th>MaritalStatus_Married</th>\n",
       "      <th>MaritalStatus_Single</th>\n",
       "    </tr>\n",
       "  </thead>\n",
       "  <tbody>\n",
       "    <tr>\n",
       "      <th>0</th>\n",
       "      <td>41</td>\n",
       "      <td>1</td>\n",
       "      <td>1</td>\n",
       "      <td>2</td>\n",
       "      <td>2</td>\n",
       "      <td>4</td>\n",
       "      <td>5993</td>\n",
       "      <td>8</td>\n",
       "      <td>1</td>\n",
       "      <td>6</td>\n",
       "      <td>0</td>\n",
       "      <td>1</td>\n",
       "      <td>1</td>\n",
       "      <td>0</td>\n",
       "      <td>0</td>\n",
       "      <td>0</td>\n",
       "      <td>0</td>\n",
       "      <td>0</td>\n",
       "      <td>1</td>\n",
       "    </tr>\n",
       "    <tr>\n",
       "      <th>1</th>\n",
       "      <td>49</td>\n",
       "      <td>0</td>\n",
       "      <td>8</td>\n",
       "      <td>1</td>\n",
       "      <td>3</td>\n",
       "      <td>2</td>\n",
       "      <td>5130</td>\n",
       "      <td>1</td>\n",
       "      <td>3</td>\n",
       "      <td>10</td>\n",
       "      <td>1</td>\n",
       "      <td>0</td>\n",
       "      <td>1</td>\n",
       "      <td>0</td>\n",
       "      <td>0</td>\n",
       "      <td>0</td>\n",
       "      <td>0</td>\n",
       "      <td>1</td>\n",
       "      <td>0</td>\n",
       "    </tr>\n",
       "    <tr>\n",
       "      <th>2</th>\n",
       "      <td>37</td>\n",
       "      <td>1</td>\n",
       "      <td>2</td>\n",
       "      <td>2</td>\n",
       "      <td>4</td>\n",
       "      <td>3</td>\n",
       "      <td>2090</td>\n",
       "      <td>6</td>\n",
       "      <td>3</td>\n",
       "      <td>0</td>\n",
       "      <td>1</td>\n",
       "      <td>0</td>\n",
       "      <td>0</td>\n",
       "      <td>0</td>\n",
       "      <td>0</td>\n",
       "      <td>1</td>\n",
       "      <td>0</td>\n",
       "      <td>0</td>\n",
       "      <td>1</td>\n",
       "    </tr>\n",
       "    <tr>\n",
       "      <th>3</th>\n",
       "      <td>33</td>\n",
       "      <td>0</td>\n",
       "      <td>3</td>\n",
       "      <td>4</td>\n",
       "      <td>4</td>\n",
       "      <td>3</td>\n",
       "      <td>2909</td>\n",
       "      <td>1</td>\n",
       "      <td>3</td>\n",
       "      <td>8</td>\n",
       "      <td>1</td>\n",
       "      <td>0</td>\n",
       "      <td>1</td>\n",
       "      <td>0</td>\n",
       "      <td>0</td>\n",
       "      <td>0</td>\n",
       "      <td>0</td>\n",
       "      <td>1</td>\n",
       "      <td>0</td>\n",
       "    </tr>\n",
       "    <tr>\n",
       "      <th>4</th>\n",
       "      <td>27</td>\n",
       "      <td>0</td>\n",
       "      <td>2</td>\n",
       "      <td>1</td>\n",
       "      <td>1</td>\n",
       "      <td>2</td>\n",
       "      <td>3468</td>\n",
       "      <td>9</td>\n",
       "      <td>3</td>\n",
       "      <td>2</td>\n",
       "      <td>1</td>\n",
       "      <td>0</td>\n",
       "      <td>0</td>\n",
       "      <td>0</td>\n",
       "      <td>1</td>\n",
       "      <td>0</td>\n",
       "      <td>0</td>\n",
       "      <td>1</td>\n",
       "      <td>0</td>\n",
       "    </tr>\n",
       "  </tbody>\n",
       "</table>\n",
       "</div>"
      ],
      "text/plain": [
       "   Age  Attrition  DistanceFromHome  Education  EnvironmentSatisfaction  \\\n",
       "0   41          1                 1          2                        2   \n",
       "1   49          0                 8          1                        3   \n",
       "2   37          1                 2          2                        4   \n",
       "3   33          0                 3          4                        4   \n",
       "4   27          0                 2          1                        1   \n",
       "\n",
       "   JobSatisfaction  MonthlyIncome  NumCompaniesWorked  WorkLifeBalance  \\\n",
       "0                4           5993                   8                1   \n",
       "1                2           5130                   1                3   \n",
       "2                3           2090                   6                3   \n",
       "3                3           2909                   1                3   \n",
       "4                2           3468                   9                3   \n",
       "\n",
       "   YearsAtCompany  Department_Research & Development  Department_Sales  \\\n",
       "0               6                                  0                 1   \n",
       "1              10                                  1                 0   \n",
       "2               0                                  1                 0   \n",
       "3               8                                  1                 0   \n",
       "4               2                                  1                 0   \n",
       "\n",
       "   EducationField_Life Sciences  EducationField_Marketing  \\\n",
       "0                             1                         0   \n",
       "1                             1                         0   \n",
       "2                             0                         0   \n",
       "3                             1                         0   \n",
       "4                             0                         0   \n",
       "\n",
       "   EducationField_Medical  EducationField_Other  \\\n",
       "0                       0                     0   \n",
       "1                       0                     0   \n",
       "2                       0                     1   \n",
       "3                       0                     0   \n",
       "4                       1                     0   \n",
       "\n",
       "   EducationField_Technical Degree  MaritalStatus_Married  \\\n",
       "0                                0                      0   \n",
       "1                                0                      1   \n",
       "2                                0                      0   \n",
       "3                                0                      1   \n",
       "4                                0                      1   \n",
       "\n",
       "   MaritalStatus_Single  \n",
       "0                     1  \n",
       "1                     0  \n",
       "2                     1  \n",
       "3                     0  \n",
       "4                     0  "
      ]
     },
     "execution_count": 48,
     "metadata": {},
     "output_type": "execute_result"
    }
   ],
   "source": [
    "myDatadu = pd.get_dummies(myData, columns=[\"Department\", \"EducationField\", \"MaritalStatus\"], drop_first=True)\n",
    "myDatadu.head()"
   ]
  },
  {
   "cell_type": "code",
   "execution_count": 49,
   "id": "b0f5978c",
   "metadata": {
    "scrolled": true
   },
   "outputs": [],
   "source": [
    "from sklearn.model_selection import train_test_split\n",
    "train_set, test_set = train_test_split(myDatadu, test_size=0.4, random_state=2204)"
   ]
  },
  {
   "cell_type": "markdown",
   "id": "156fc5ea",
   "metadata": {},
   "source": [
    "I use my birthday as the seed value, which is April 22nd, so 2204."
   ]
  },
  {
   "cell_type": "code",
   "execution_count": 50,
   "id": "44ec452f",
   "metadata": {
    "scrolled": false
   },
   "outputs": [
    {
     "data": {
      "text/html": [
       "<div>\n",
       "<style scoped>\n",
       "    .dataframe tbody tr th:only-of-type {\n",
       "        vertical-align: middle;\n",
       "    }\n",
       "\n",
       "    .dataframe tbody tr th {\n",
       "        vertical-align: top;\n",
       "    }\n",
       "\n",
       "    .dataframe thead th {\n",
       "        text-align: right;\n",
       "    }\n",
       "</style>\n",
       "<table border=\"1\" class=\"dataframe\">\n",
       "  <thead>\n",
       "    <tr style=\"text-align: right;\">\n",
       "      <th></th>\n",
       "      <th>Age</th>\n",
       "      <th>DistanceFromHome</th>\n",
       "      <th>Education</th>\n",
       "      <th>EnvironmentSatisfaction</th>\n",
       "      <th>JobSatisfaction</th>\n",
       "      <th>MonthlyIncome</th>\n",
       "      <th>NumCompaniesWorked</th>\n",
       "      <th>WorkLifeBalance</th>\n",
       "      <th>YearsAtCompany</th>\n",
       "      <th>Department_Research &amp; Development</th>\n",
       "      <th>Department_Sales</th>\n",
       "      <th>EducationField_Life Sciences</th>\n",
       "      <th>EducationField_Marketing</th>\n",
       "      <th>EducationField_Medical</th>\n",
       "      <th>EducationField_Other</th>\n",
       "      <th>EducationField_Technical Degree</th>\n",
       "      <th>MaritalStatus_Married</th>\n",
       "      <th>MaritalStatus_Single</th>\n",
       "    </tr>\n",
       "    <tr>\n",
       "      <th>Attrition</th>\n",
       "      <th></th>\n",
       "      <th></th>\n",
       "      <th></th>\n",
       "      <th></th>\n",
       "      <th></th>\n",
       "      <th></th>\n",
       "      <th></th>\n",
       "      <th></th>\n",
       "      <th></th>\n",
       "      <th></th>\n",
       "      <th></th>\n",
       "      <th></th>\n",
       "      <th></th>\n",
       "      <th></th>\n",
       "      <th></th>\n",
       "      <th></th>\n",
       "      <th></th>\n",
       "      <th></th>\n",
       "    </tr>\n",
       "  </thead>\n",
       "  <tbody>\n",
       "    <tr>\n",
       "      <th>0</th>\n",
       "      <td>37.561233</td>\n",
       "      <td>8.915653</td>\n",
       "      <td>2.927007</td>\n",
       "      <td>2.771290</td>\n",
       "      <td>2.778589</td>\n",
       "      <td>6832.739659</td>\n",
       "      <td>2.645580</td>\n",
       "      <td>2.781022</td>\n",
       "      <td>7.369019</td>\n",
       "      <td>0.671533</td>\n",
       "      <td>0.287105</td>\n",
       "      <td>0.419303</td>\n",
       "      <td>0.100568</td>\n",
       "      <td>0.325223</td>\n",
       "      <td>0.057583</td>\n",
       "      <td>0.081103</td>\n",
       "      <td>0.477697</td>\n",
       "      <td>0.283861</td>\n",
       "    </tr>\n",
       "    <tr>\n",
       "      <th>1</th>\n",
       "      <td>33.607595</td>\n",
       "      <td>10.632911</td>\n",
       "      <td>2.839662</td>\n",
       "      <td>2.464135</td>\n",
       "      <td>2.468354</td>\n",
       "      <td>4787.092827</td>\n",
       "      <td>2.940928</td>\n",
       "      <td>2.658228</td>\n",
       "      <td>5.130802</td>\n",
       "      <td>0.561181</td>\n",
       "      <td>0.388186</td>\n",
       "      <td>0.375527</td>\n",
       "      <td>0.147679</td>\n",
       "      <td>0.265823</td>\n",
       "      <td>0.046414</td>\n",
       "      <td>0.135021</td>\n",
       "      <td>0.354430</td>\n",
       "      <td>0.506329</td>\n",
       "    </tr>\n",
       "  </tbody>\n",
       "</table>\n",
       "</div>"
      ],
      "text/plain": [
       "                 Age  DistanceFromHome  Education  EnvironmentSatisfaction  \\\n",
       "Attrition                                                                    \n",
       "0          37.561233          8.915653   2.927007                 2.771290   \n",
       "1          33.607595         10.632911   2.839662                 2.464135   \n",
       "\n",
       "           JobSatisfaction  MonthlyIncome  NumCompaniesWorked  \\\n",
       "Attrition                                                       \n",
       "0                 2.778589    6832.739659            2.645580   \n",
       "1                 2.468354    4787.092827            2.940928   \n",
       "\n",
       "           WorkLifeBalance  YearsAtCompany  Department_Research & Development  \\\n",
       "Attrition                                                                       \n",
       "0                 2.781022        7.369019                           0.671533   \n",
       "1                 2.658228        5.130802                           0.561181   \n",
       "\n",
       "           Department_Sales  EducationField_Life Sciences  \\\n",
       "Attrition                                                   \n",
       "0                  0.287105                      0.419303   \n",
       "1                  0.388186                      0.375527   \n",
       "\n",
       "           EducationField_Marketing  EducationField_Medical  \\\n",
       "Attrition                                                     \n",
       "0                          0.100568                0.325223   \n",
       "1                          0.147679                0.265823   \n",
       "\n",
       "           EducationField_Other  EducationField_Technical Degree  \\\n",
       "Attrition                                                          \n",
       "0                      0.057583                         0.081103   \n",
       "1                      0.046414                         0.135021   \n",
       "\n",
       "           MaritalStatus_Married  MaritalStatus_Single  \n",
       "Attrition                                               \n",
       "0                       0.477697              0.283861  \n",
       "1                       0.354430              0.506329  "
      ]
     },
     "execution_count": 50,
     "metadata": {},
     "output_type": "execute_result"
    }
   ],
   "source": [
    "myDatadu.groupby('Attrition').mean()"
   ]
  },
  {
   "cell_type": "markdown",
   "id": "f9c698b2",
   "metadata": {},
   "source": [
    "Based on the given mean values:<br> \n",
    "● MonthlyIncome: Employees with higher monthly income (mean: 6832.74) are less likely to leave compared to those with lower income (mean: 4787.09). So, higher income is likely to strongly reduce attrition.<br> \n",
    "● YearsAtCompany: Employees who have spent more years at the company (mean: 7.37) are less likely to leave compared to those with fewer years (mean: 5.13). So, longer tenure is likely to have a strong impact in reducing attrition.<br> \n",
    "● MaritalStatus_Single: Employees who are single (mean: 0.51) are more likely to leave compared to those who are not single (mean: 0.28). So, being single may have a moderate impact in increasing attrition.<br> "
   ]
  },
  {
   "cell_type": "code",
   "execution_count": 52,
   "id": "dd177a32",
   "metadata": {
    "scrolled": true
   },
   "outputs": [
    {
     "name": "stdout",
     "output_type": "stream",
     "text": [
      "Optimization terminated successfully.\n",
      "         Current function value: 0.406453\n",
      "         Iterations 7\n",
      "                           Logit Regression Results                           \n",
      "==============================================================================\n",
      "Dep. Variable:              Attrition   No. Observations:                  882\n",
      "Model:                          Logit   Df Residuals:                      863\n",
      "Method:                           MLE   Df Model:                           18\n",
      "Date:                Mon, 24 Jul 2023   Pseudo R-squ.:                  0.1385\n",
      "Time:                        23:41:20   Log-Likelihood:                -358.49\n",
      "converged:                       True   LL-Null:                       -416.13\n",
      "Covariance Type:            nonrobust   LLR p-value:                 3.241e-16\n",
      "=====================================================================================================\n",
      "                                        coef    std err          z      P>|z|      [0.025      0.975]\n",
      "-----------------------------------------------------------------------------------------------------\n",
      "const                                 1.7836      0.894      1.996      0.046       0.032       3.535\n",
      "Age                                  -0.0112      0.013     -0.890      0.373      -0.036       0.014\n",
      "DistanceFromHome                      0.0392      0.011      3.441      0.001       0.017       0.062\n",
      "Education                            -0.0442      0.095     -0.466      0.642      -0.230       0.142\n",
      "EnvironmentSatisfaction              -0.3406      0.088     -3.887      0.000      -0.512      -0.169\n",
      "JobSatisfaction                      -0.2447      0.086     -2.846      0.004      -0.413      -0.076\n",
      "MonthlyIncome                        -0.0001   3.45e-05     -3.412      0.001      -0.000   -5.01e-05\n",
      "NumCompaniesWorked                    0.0772      0.039      1.978      0.048       0.001       0.154\n",
      "WorkLifeBalance                      -0.2010      0.137     -1.473      0.141      -0.469       0.067\n",
      "YearsAtCompany                       -0.0216      0.024     -0.919      0.358      -0.068       0.025\n",
      "Department_Research & Development    -0.5870      0.575     -1.020      0.307      -1.714       0.540\n",
      "Department_Sales                     -0.0263      0.600     -0.044      0.965      -1.203       1.150\n",
      "EducationField_Life Sciences         -0.8186      0.818     -1.001      0.317      -2.421       0.784\n",
      "EducationField_Marketing             -0.6528      0.871     -0.749      0.454      -2.361       1.055\n",
      "EducationField_Medical               -0.9663      0.813     -1.189      0.234      -2.559       0.626\n",
      "EducationField_Other                 -1.1489      0.891     -1.290      0.197      -2.894       0.597\n",
      "EducationField_Technical Degree      -0.2696      0.826     -0.326      0.744      -1.888       1.349\n",
      "MaritalStatus_Married                 0.4517      0.286      1.580      0.114      -0.109       1.012\n",
      "MaritalStatus_Single                  1.2057      0.289      4.177      0.000       0.640       1.771\n",
      "=====================================================================================================\n"
     ]
    }
   ],
   "source": [
    "import statsmodels.api as sm\n",
    "y_train = train_set['Attrition']\n",
    "X_train = train_set.drop('Attrition', axis=1)\n",
    "X_train = sm.add_constant(X_train)\n",
    "\n",
    "logit_model = sm.Logit(y_train, X_train)\n",
    "result = logit_model.fit()\n",
    "\n",
    "print(result.summary())"
   ]
  },
  {
   "cell_type": "markdown",
   "id": "5ebc6069",
   "metadata": {},
   "source": [
    "a. The p-values of numeric variables are higher than 0.05:<br>\n",
    "Age, YearsAtCompany<br>\n",
    "b. For the categorical variables, these are showing high p-values for ALL of the levels in the model:<br>\n",
    "Education, WorkLifeBalance, Department (Research & Development and Sales), EducationField (Life Sciences, Marketing, Medical, Technical Degree and Other), MaritalStatus (Married)<br>"
   ]
  },
  {
   "cell_type": "code",
   "execution_count": 53,
   "id": "2dbcfaa0",
   "metadata": {},
   "outputs": [
    {
     "name": "stdout",
     "output_type": "stream",
     "text": [
      "Optimization terminated successfully.\n",
      "         Current function value: 0.434104\n",
      "         Iterations 7\n",
      "                           Logit Regression Results                           \n",
      "==============================================================================\n",
      "Dep. Variable:              Attrition   No. Observations:                  882\n",
      "Model:                          Logit   Df Residuals:                      876\n",
      "Method:                           MLE   Df Model:                            5\n",
      "Date:                Mon, 24 Jul 2023   Pseudo R-squ.:                 0.07991\n",
      "Time:                        23:41:22   Log-Likelihood:                -382.88\n",
      "converged:                       True   LL-Null:                       -416.13\n",
      "Covariance Type:            nonrobust   LLR p-value:                 5.455e-13\n",
      "===========================================================================================\n",
      "                              coef    std err          z      P>|z|      [0.025      0.975]\n",
      "-------------------------------------------------------------------------------------------\n",
      "const                       0.1730      0.374      0.462      0.644      -0.561       0.907\n",
      "DistanceFromHome            0.0363      0.011      3.307      0.001       0.015       0.058\n",
      "EnvironmentSatisfaction    -0.3251      0.084     -3.884      0.000      -0.489      -0.161\n",
      "JobSatisfaction            -0.2156      0.082     -2.632      0.008      -0.376      -0.055\n",
      "MonthlyIncome              -0.0001   2.76e-05     -5.029      0.000      -0.000   -8.47e-05\n",
      "NumCompaniesWorked          0.0541      0.035      1.529      0.126      -0.015       0.123\n",
      "===========================================================================================\n"
     ]
    }
   ],
   "source": [
    "y2_train = train_set['Attrition']\n",
    "X2_train = train_set.drop(['Attrition', 'Age', 'YearsAtCompany', 'Education', 'WorkLifeBalance',\n",
    "                           'Department_Research & Development', 'Department_Sales',\n",
    "                           'EducationField_Life Sciences', 'EducationField_Marketing',\n",
    "                           'EducationField_Medical','EducationField_Other', 'EducationField_Technical Degree',\n",
    "                           'MaritalStatus_Married', 'MaritalStatus_Single'], axis=1)\n",
    "\n",
    "X2_train = sm.add_constant(X2_train)\n",
    "\n",
    "logit_model2 = sm.Logit(y2_train, X2_train)\n",
    "result = logit_model2.fit()\n",
    "\n",
    "print(result.summary())"
   ]
  },
  {
   "cell_type": "code",
   "execution_count": 54,
   "id": "2c7e6399",
   "metadata": {},
   "outputs": [
    {
     "data": {
      "text/plain": [
       "LogisticRegression()"
      ]
     },
     "execution_count": 54,
     "metadata": {},
     "output_type": "execute_result"
    }
   ],
   "source": [
    "from sklearn.linear_model import LogisticRegression\n",
    "from sklearn.model_selection import train_test_split\n",
    "y = myDatadu['Attrition']\n",
    "X = myDatadu.drop(['Attrition', 'Age', 'YearsAtCompany', 'Education', 'WorkLifeBalance',\n",
    "                   'Department_Research & Development', 'Department_Sales',\n",
    "                   'EducationField_Life Sciences', 'EducationField_Marketing',\n",
    "                   'EducationField_Medical','EducationField_Other', 'EducationField_Technical Degree',\n",
    "                   'MaritalStatus_Married', 'MaritalStatus_Single'], axis=1)\n",
    "X_train, X_test, y_train, y_test = train_test_split(X, y, test_size=0.4, random_state=2204)\n",
    "\n",
    "logistic_model3 = LogisticRegression()\n",
    "logistic_model3.fit(X_train, y_train)"
   ]
  },
  {
   "cell_type": "code",
   "execution_count": 56,
   "id": "188dae78",
   "metadata": {
    "scrolled": true
   },
   "outputs": [
    {
     "data": {
      "image/png": "[encoded data removed]",
      "text/plain": [
       "<Figure size 432x288 with 1 Axes>"
      ]
     },
     "metadata": {
      "needs_background": "light"
     },
     "output_type": "display_data"
    }
   ],
   "source": [
    "from sklearn.metrics import confusion_matrix\n",
    "y_pred = logistic_model3.predict(X_test)\n",
    "\n",
    "cm = confusion_matrix(y_pred, y_test)\n",
    "sns.heatmap(cm, square = True, fmt = 'g', annot = True, cbar = False)\n",
    "plt.xlabel('actual result')\n",
    "plt.ylabel('predicted result')\n",
    "a,b = plt.ylim()\n",
    "a+=.5\n",
    "b-=.5\n",
    "plt.ylim(a,b)\n",
    "plt.show()"
   ]
  },
  {
   "cell_type": "code",
   "execution_count": 57,
   "id": "cb8dde88",
   "metadata": {},
   "outputs": [
    {
     "name": "stdout",
     "output_type": "stream",
     "text": [
      "Accuracy rate: 0.8690476190476191\n",
      "Sensitivity rate: 0.01282051282051282\n",
      "Specificity rate: 1.0\n",
      "Precision: 1.0\n",
      "Balanced Accuracy: 0.5064102564102564\n"
     ]
    }
   ],
   "source": [
    "from sklearn.metrics import accuracy_score\n",
    "accuracy = accuracy_score(y_test, y_pred)\n",
    "print(\"Accuracy rate:\", accuracy)\n",
    "\n",
    "from sklearn.metrics import recall_score\n",
    "sensitivity = recall_score(y_test, y_pred)\n",
    "print(\"Sensitivity rate:\", sensitivity)\n",
    "\n",
    "cm2 = confusion_matrix(y_test, y_pred)\n",
    "specificity = cm2[0, 0] / (cm2[0, 0] + cm2[0, 1])\n",
    "print(\"Specificity rate:\", specificity)\n",
    "\n",
    "from sklearn.metrics import precision_score\n",
    "precision = precision_score(y_test, y_pred)\n",
    "print(\"Precision:\", precision)\n",
    "\n",
    "from sklearn.metrics import balanced_accuracy_score\n",
    "balanced_accuracy = balanced_accuracy_score(y_test, y_pred)\n",
    "print(\"Balanced Accuracy:\", balanced_accuracy)"
   ]
  },
  {
   "cell_type": "code",
   "execution_count": 19,
   "id": "b296ac5f",
   "metadata": {},
   "outputs": [
    {
     "name": "stdout",
     "output_type": "stream",
     "text": [
      "Accuracy on Training Set: 0.8231292517006803\n",
      "Accuracy on Test Set: 0.8690476190476191\n"
     ]
    }
   ],
   "source": [
    "y_pred_train = logistic_model3.predict(X_train)\n",
    "accuracy_train = accuracy_score(y_train, y_pred_train)\n",
    "accuracy_test = accuracy_score(y_test, y_pred)\n",
    "\n",
    "print(\"Accuracy on Training Set:\", accuracy_train)\n",
    "print(\"Accuracy on Test Set:\", accuracy_test)"
   ]
  },
  {
   "cell_type": "markdown",
   "id": "1c0e16ce",
   "metadata": {},
   "source": [
    "a.<br>\n",
    "The purpose of comparing the accuracy values on the training set and the test set is to evaluate how well the model generalizes to unseen data. It helps us assess whether the model is overfitting or underfitting. <br>\n",
    "b.<br>\n",
    "In this case, the comparison of the accuracy values suggests that the model performs reasonably well on both the training set and the test set. The fact that the accuracy on the test set is close to the accuracy on the training set suggests that the model is generalizing well to unseen data. It indicates that the model is not suffering from significant overfitting, where it performs well on the training set but poorly on new data. "
   ]
  },
  {
   "cell_type": "code",
   "execution_count": 20,
   "id": "4c33cf47",
   "metadata": {
    "scrolled": true
   },
   "outputs": [
    {
     "data": {
      "text/html": [
       "<div>\n",
       "<style scoped>\n",
       "    .dataframe tbody tr th:only-of-type {\n",
       "        vertical-align: middle;\n",
       "    }\n",
       "\n",
       "    .dataframe tbody tr th {\n",
       "        vertical-align: top;\n",
       "    }\n",
       "\n",
       "    .dataframe thead th {\n",
       "        text-align: right;\n",
       "    }\n",
       "</style>\n",
       "<table border=\"1\" class=\"dataframe\">\n",
       "  <thead>\n",
       "    <tr style=\"text-align: right;\">\n",
       "      <th></th>\n",
       "      <th>DistanceFromHome</th>\n",
       "      <th>EnvironmentSatisfaction</th>\n",
       "      <th>JobSatisfaction</th>\n",
       "      <th>MonthlyIncome</th>\n",
       "      <th>NumCompaniesWorked</th>\n",
       "    </tr>\n",
       "  </thead>\n",
       "  <tbody>\n",
       "    <tr>\n",
       "      <th>count</th>\n",
       "      <td>588.000000</td>\n",
       "      <td>588.000000</td>\n",
       "      <td>588.000000</td>\n",
       "      <td>588.000000</td>\n",
       "      <td>588.000000</td>\n",
       "    </tr>\n",
       "    <tr>\n",
       "      <th>mean</th>\n",
       "      <td>9.600340</td>\n",
       "      <td>2.814626</td>\n",
       "      <td>2.727891</td>\n",
       "      <td>6442.176871</td>\n",
       "      <td>2.591837</td>\n",
       "    </tr>\n",
       "    <tr>\n",
       "      <th>std</th>\n",
       "      <td>8.521851</td>\n",
       "      <td>1.092638</td>\n",
       "      <td>1.098600</td>\n",
       "      <td>4633.334968</td>\n",
       "      <td>2.415890</td>\n",
       "    </tr>\n",
       "    <tr>\n",
       "      <th>min</th>\n",
       "      <td>1.000000</td>\n",
       "      <td>1.000000</td>\n",
       "      <td>1.000000</td>\n",
       "      <td>1052.000000</td>\n",
       "      <td>0.000000</td>\n",
       "    </tr>\n",
       "    <tr>\n",
       "      <th>25%</th>\n",
       "      <td>2.000000</td>\n",
       "      <td>2.000000</td>\n",
       "      <td>2.000000</td>\n",
       "      <td>2934.250000</td>\n",
       "      <td>1.000000</td>\n",
       "    </tr>\n",
       "    <tr>\n",
       "      <th>50%</th>\n",
       "      <td>7.000000</td>\n",
       "      <td>3.000000</td>\n",
       "      <td>3.000000</td>\n",
       "      <td>4835.500000</td>\n",
       "      <td>2.000000</td>\n",
       "    </tr>\n",
       "    <tr>\n",
       "      <th>75%</th>\n",
       "      <td>15.250000</td>\n",
       "      <td>4.000000</td>\n",
       "      <td>4.000000</td>\n",
       "      <td>8130.500000</td>\n",
       "      <td>4.000000</td>\n",
       "    </tr>\n",
       "    <tr>\n",
       "      <th>max</th>\n",
       "      <td>29.000000</td>\n",
       "      <td>4.000000</td>\n",
       "      <td>4.000000</td>\n",
       "      <td>19973.000000</td>\n",
       "      <td>9.000000</td>\n",
       "    </tr>\n",
       "  </tbody>\n",
       "</table>\n",
       "</div>"
      ],
      "text/plain": [
       "       DistanceFromHome  EnvironmentSatisfaction  JobSatisfaction  \\\n",
       "count        588.000000               588.000000       588.000000   \n",
       "mean           9.600340                 2.814626         2.727891   \n",
       "std            8.521851                 1.092638         1.098600   \n",
       "min            1.000000                 1.000000         1.000000   \n",
       "25%            2.000000                 2.000000         2.000000   \n",
       "50%            7.000000                 3.000000         3.000000   \n",
       "75%           15.250000                 4.000000         4.000000   \n",
       "max           29.000000                 4.000000         4.000000   \n",
       "\n",
       "       MonthlyIncome  NumCompaniesWorked  \n",
       "count     588.000000          588.000000  \n",
       "mean     6442.176871            2.591837  \n",
       "std      4633.334968            2.415890  \n",
       "min      1052.000000            0.000000  \n",
       "25%      2934.250000            1.000000  \n",
       "50%      4835.500000            2.000000  \n",
       "75%      8130.500000            4.000000  \n",
       "max     19973.000000            9.000000  "
      ]
     },
     "execution_count": 20,
     "metadata": {},
     "output_type": "execute_result"
    }
   ],
   "source": [
    "X_test.describe()"
   ]
  },
  {
   "cell_type": "code",
   "execution_count": 21,
   "id": "0adba115",
   "metadata": {
    "scrolled": true
   },
   "outputs": [
    {
     "name": "stdout",
     "output_type": "stream",
     "text": [
      "Employee Attrition Prediction: [0]\n"
     ]
    }
   ],
   "source": [
    "employee_data = pd.DataFrame([{'DistanceFromHome': 10, 'EnvironmentSatisfaction': 4, 'JobSatisfaction': 3, 'MonthlyIncome': 5500, 'NumCompaniesWorked': 3\n",
    "}])\n",
    "employee_prediction = logistic_model3.predict(employee_data)\n",
    "\n",
    "print(\"Employee Attrition Prediction:\", employee_prediction)"
   ]
  },
  {
   "cell_type": "code",
   "execution_count": 22,
   "id": "637568ad",
   "metadata": {
    "scrolled": true
   },
   "outputs": [
    {
     "data": {
      "text/plain": [
       "array([[0.87716049, 0.12283951]])"
      ]
     },
     "execution_count": 22,
     "metadata": {},
     "output_type": "execute_result"
    }
   ],
   "source": [
    "logistic_model3.predict_proba(employee_data)"
   ]
  },
  {
   "cell_type": "markdown",
   "id": "a1c33a78",
   "metadata": {},
   "source": [
    "a.<br>\n",
    "Here I create a worker and throw his data into the logistic regression model. In the end, the employee was predicted by the model not to leave, I think it was because his salary reached 5500 and his satisfaction was very high.<br>\n",
    "b.<br>\n",
    "For this employee, it shows that he has a probability of 87.7% that he will not resign. This is a very strong number, so HR does not need to talk to him.<br>"
   ]
  },
  {
   "cell_type": "markdown",
   "id": "146bdff5",
   "metadata": {},
   "source": [
    "It is important to use values within the range of the dataset used to build the logistic regression model because the model's predictions are based on the patterns observed in the training data. Extrapolating beyond the observed range can lead to unreliable and inaccurate predictions as the model's assumptions and relationships may not hold true. By limiting predictions to the range of the training data, we ensure more accurate and meaningful results."
   ]
  },
  {
   "cell_type": "code",
   "execution_count": 23,
   "id": "29a8d0fe",
   "metadata": {
    "scrolled": true
   },
   "outputs": [
    {
     "name": "stdout",
     "output_type": "stream",
     "text": [
      "Employee Attrition Prediction: [1]\n"
     ]
    },
    {
     "data": {
      "text/plain": [
       "array([[5.91405465e-06, 9.99994086e-01]])"
      ]
     },
     "execution_count": 23,
     "metadata": {},
     "output_type": "execute_result"
    }
   ],
   "source": [
    "employee_data2 = pd.DataFrame([{'DistanceFromHome': 300, 'EnvironmentSatisfaction': 1, 'JobSatisfaction': 1, 'MonthlyIncome': 100, 'NumCompaniesWorked': 20\n",
    "}])\n",
    "\n",
    "employee_prediction2 = logistic_model3.predict(employee_data2)\n",
    "\n",
    "print(\"Employee Attrition Prediction:\", employee_prediction2)\n",
    "logistic_model3.predict_proba(employee_data2)"
   ]
  },
  {
   "cell_type": "markdown",
   "id": "096cc90f",
   "metadata": {},
   "source": [
    "It can be seen from the above probabilities and results that if my distance is set at 300 kilometers and the salary is only 100$, then his probability of leaving will become very extreme. Some wildly out-of-range input values could have caused the model to deliver a predicted y-value that is orders of magnitude bigger than any true outcome for that variable."
   ]
  },
  {
   "cell_type": "markdown",
   "id": "6c1da005",
   "metadata": {},
   "source": [
    "### II. Random Forest Model"
   ]
  },
  {
   "cell_type": "code",
   "execution_count": 24,
   "id": "1c9a8ace",
   "metadata": {
    "scrolled": false
   },
   "outputs": [
    {
     "data": {
      "text/html": [
       "<div>\n",
       "<style scoped>\n",
       "    .dataframe tbody tr th:only-of-type {\n",
       "        vertical-align: middle;\n",
       "    }\n",
       "\n",
       "    .dataframe tbody tr th {\n",
       "        vertical-align: top;\n",
       "    }\n",
       "\n",
       "    .dataframe thead th {\n",
       "        text-align: right;\n",
       "    }\n",
       "</style>\n",
       "<table border=\"1\" class=\"dataframe\">\n",
       "  <thead>\n",
       "    <tr style=\"text-align: right;\">\n",
       "      <th></th>\n",
       "      <th>Age</th>\n",
       "      <th>Attrition</th>\n",
       "      <th>Department</th>\n",
       "      <th>DistanceFromHome</th>\n",
       "      <th>Education</th>\n",
       "      <th>EducationField</th>\n",
       "      <th>EnvironmentSatisfaction</th>\n",
       "      <th>JobSatisfaction</th>\n",
       "      <th>MaritalStatus</th>\n",
       "      <th>MonthlyIncome</th>\n",
       "      <th>NumCompaniesWorked</th>\n",
       "      <th>WorkLifeBalance</th>\n",
       "      <th>YearsAtCompany</th>\n",
       "    </tr>\n",
       "  </thead>\n",
       "  <tbody>\n",
       "    <tr>\n",
       "      <th>0</th>\n",
       "      <td>41</td>\n",
       "      <td>Yes</td>\n",
       "      <td>Sales</td>\n",
       "      <td>1</td>\n",
       "      <td>2</td>\n",
       "      <td>Life Sciences</td>\n",
       "      <td>2</td>\n",
       "      <td>4</td>\n",
       "      <td>Single</td>\n",
       "      <td>5993</td>\n",
       "      <td>8</td>\n",
       "      <td>1</td>\n",
       "      <td>6</td>\n",
       "    </tr>\n",
       "    <tr>\n",
       "      <th>1</th>\n",
       "      <td>49</td>\n",
       "      <td>No</td>\n",
       "      <td>Research &amp; Development</td>\n",
       "      <td>8</td>\n",
       "      <td>1</td>\n",
       "      <td>Life Sciences</td>\n",
       "      <td>3</td>\n",
       "      <td>2</td>\n",
       "      <td>Married</td>\n",
       "      <td>5130</td>\n",
       "      <td>1</td>\n",
       "      <td>3</td>\n",
       "      <td>10</td>\n",
       "    </tr>\n",
       "    <tr>\n",
       "      <th>2</th>\n",
       "      <td>37</td>\n",
       "      <td>Yes</td>\n",
       "      <td>Research &amp; Development</td>\n",
       "      <td>2</td>\n",
       "      <td>2</td>\n",
       "      <td>Other</td>\n",
       "      <td>4</td>\n",
       "      <td>3</td>\n",
       "      <td>Single</td>\n",
       "      <td>2090</td>\n",
       "      <td>6</td>\n",
       "      <td>3</td>\n",
       "      <td>0</td>\n",
       "    </tr>\n",
       "    <tr>\n",
       "      <th>3</th>\n",
       "      <td>33</td>\n",
       "      <td>No</td>\n",
       "      <td>Research &amp; Development</td>\n",
       "      <td>3</td>\n",
       "      <td>4</td>\n",
       "      <td>Life Sciences</td>\n",
       "      <td>4</td>\n",
       "      <td>3</td>\n",
       "      <td>Married</td>\n",
       "      <td>2909</td>\n",
       "      <td>1</td>\n",
       "      <td>3</td>\n",
       "      <td>8</td>\n",
       "    </tr>\n",
       "    <tr>\n",
       "      <th>4</th>\n",
       "      <td>27</td>\n",
       "      <td>No</td>\n",
       "      <td>Research &amp; Development</td>\n",
       "      <td>2</td>\n",
       "      <td>1</td>\n",
       "      <td>Medical</td>\n",
       "      <td>1</td>\n",
       "      <td>2</td>\n",
       "      <td>Married</td>\n",
       "      <td>3468</td>\n",
       "      <td>9</td>\n",
       "      <td>3</td>\n",
       "      <td>2</td>\n",
       "    </tr>\n",
       "  </tbody>\n",
       "</table>\n",
       "</div>"
      ],
      "text/plain": [
       "   Age Attrition              Department  DistanceFromHome  Education  \\\n",
       "0   41       Yes                   Sales                 1          2   \n",
       "1   49        No  Research & Development                 8          1   \n",
       "2   37       Yes  Research & Development                 2          2   \n",
       "3   33        No  Research & Development                 3          4   \n",
       "4   27        No  Research & Development                 2          1   \n",
       "\n",
       "  EducationField  EnvironmentSatisfaction  JobSatisfaction MaritalStatus  \\\n",
       "0  Life Sciences                        2                4        Single   \n",
       "1  Life Sciences                        3                2       Married   \n",
       "2          Other                        4                3        Single   \n",
       "3  Life Sciences                        4                3       Married   \n",
       "4        Medical                        1                2       Married   \n",
       "\n",
       "   MonthlyIncome  NumCompaniesWorked  WorkLifeBalance  YearsAtCompany  \n",
       "0           5993                   8                1               6  \n",
       "1           5130                   1                3              10  \n",
       "2           2090                   6                3               0  \n",
       "3           2909                   1                3               8  \n",
       "4           3468                   9                3               2  "
      ]
     },
     "execution_count": 24,
     "metadata": {},
     "output_type": "execute_result"
    }
   ],
   "source": [
    "myData2 = pd.read_csv('IBM.csv')\n",
    "myData2.head()"
   ]
  },
  {
   "cell_type": "code",
   "execution_count": 25,
   "id": "660c3952",
   "metadata": {},
   "outputs": [
    {
     "data": {
      "text/html": [
       "<div>\n",
       "<style scoped>\n",
       "    .dataframe tbody tr th:only-of-type {\n",
       "        vertical-align: middle;\n",
       "    }\n",
       "\n",
       "    .dataframe tbody tr th {\n",
       "        vertical-align: top;\n",
       "    }\n",
       "\n",
       "    .dataframe thead th {\n",
       "        text-align: right;\n",
       "    }\n",
       "</style>\n",
       "<table border=\"1\" class=\"dataframe\">\n",
       "  <thead>\n",
       "    <tr style=\"text-align: right;\">\n",
       "      <th></th>\n",
       "      <th>Age</th>\n",
       "      <th>Attrition</th>\n",
       "      <th>DistanceFromHome</th>\n",
       "      <th>Education</th>\n",
       "      <th>EnvironmentSatisfaction</th>\n",
       "      <th>JobSatisfaction</th>\n",
       "      <th>MonthlyIncome</th>\n",
       "      <th>NumCompaniesWorked</th>\n",
       "      <th>WorkLifeBalance</th>\n",
       "      <th>YearsAtCompany</th>\n",
       "      <th>...</th>\n",
       "      <th>Department_Sales</th>\n",
       "      <th>EducationField_Human Resources</th>\n",
       "      <th>EducationField_Life Sciences</th>\n",
       "      <th>EducationField_Marketing</th>\n",
       "      <th>EducationField_Medical</th>\n",
       "      <th>EducationField_Other</th>\n",
       "      <th>EducationField_Technical Degree</th>\n",
       "      <th>MaritalStatus_Divorced</th>\n",
       "      <th>MaritalStatus_Married</th>\n",
       "      <th>MaritalStatus_Single</th>\n",
       "    </tr>\n",
       "  </thead>\n",
       "  <tbody>\n",
       "    <tr>\n",
       "      <th>0</th>\n",
       "      <td>41</td>\n",
       "      <td>1</td>\n",
       "      <td>1</td>\n",
       "      <td>2</td>\n",
       "      <td>2</td>\n",
       "      <td>4</td>\n",
       "      <td>5993</td>\n",
       "      <td>8</td>\n",
       "      <td>1</td>\n",
       "      <td>6</td>\n",
       "      <td>...</td>\n",
       "      <td>1</td>\n",
       "      <td>0</td>\n",
       "      <td>1</td>\n",
       "      <td>0</td>\n",
       "      <td>0</td>\n",
       "      <td>0</td>\n",
       "      <td>0</td>\n",
       "      <td>0</td>\n",
       "      <td>0</td>\n",
       "      <td>1</td>\n",
       "    </tr>\n",
       "    <tr>\n",
       "      <th>1</th>\n",
       "      <td>49</td>\n",
       "      <td>0</td>\n",
       "      <td>8</td>\n",
       "      <td>1</td>\n",
       "      <td>3</td>\n",
       "      <td>2</td>\n",
       "      <td>5130</td>\n",
       "      <td>1</td>\n",
       "      <td>3</td>\n",
       "      <td>10</td>\n",
       "      <td>...</td>\n",
       "      <td>0</td>\n",
       "      <td>0</td>\n",
       "      <td>1</td>\n",
       "      <td>0</td>\n",
       "      <td>0</td>\n",
       "      <td>0</td>\n",
       "      <td>0</td>\n",
       "      <td>0</td>\n",
       "      <td>1</td>\n",
       "      <td>0</td>\n",
       "    </tr>\n",
       "    <tr>\n",
       "      <th>2</th>\n",
       "      <td>37</td>\n",
       "      <td>1</td>\n",
       "      <td>2</td>\n",
       "      <td>2</td>\n",
       "      <td>4</td>\n",
       "      <td>3</td>\n",
       "      <td>2090</td>\n",
       "      <td>6</td>\n",
       "      <td>3</td>\n",
       "      <td>0</td>\n",
       "      <td>...</td>\n",
       "      <td>0</td>\n",
       "      <td>0</td>\n",
       "      <td>0</td>\n",
       "      <td>0</td>\n",
       "      <td>0</td>\n",
       "      <td>1</td>\n",
       "      <td>0</td>\n",
       "      <td>0</td>\n",
       "      <td>0</td>\n",
       "      <td>1</td>\n",
       "    </tr>\n",
       "    <tr>\n",
       "      <th>3</th>\n",
       "      <td>33</td>\n",
       "      <td>0</td>\n",
       "      <td>3</td>\n",
       "      <td>4</td>\n",
       "      <td>4</td>\n",
       "      <td>3</td>\n",
       "      <td>2909</td>\n",
       "      <td>1</td>\n",
       "      <td>3</td>\n",
       "      <td>8</td>\n",
       "      <td>...</td>\n",
       "      <td>0</td>\n",
       "      <td>0</td>\n",
       "      <td>1</td>\n",
       "      <td>0</td>\n",
       "      <td>0</td>\n",
       "      <td>0</td>\n",
       "      <td>0</td>\n",
       "      <td>0</td>\n",
       "      <td>1</td>\n",
       "      <td>0</td>\n",
       "    </tr>\n",
       "    <tr>\n",
       "      <th>4</th>\n",
       "      <td>27</td>\n",
       "      <td>0</td>\n",
       "      <td>2</td>\n",
       "      <td>1</td>\n",
       "      <td>1</td>\n",
       "      <td>2</td>\n",
       "      <td>3468</td>\n",
       "      <td>9</td>\n",
       "      <td>3</td>\n",
       "      <td>2</td>\n",
       "      <td>...</td>\n",
       "      <td>0</td>\n",
       "      <td>0</td>\n",
       "      <td>0</td>\n",
       "      <td>0</td>\n",
       "      <td>1</td>\n",
       "      <td>0</td>\n",
       "      <td>0</td>\n",
       "      <td>0</td>\n",
       "      <td>1</td>\n",
       "      <td>0</td>\n",
       "    </tr>\n",
       "  </tbody>\n",
       "</table>\n",
       "<p>5 rows × 22 columns</p>\n",
       "</div>"
      ],
      "text/plain": [
       "   Age  Attrition  DistanceFromHome  Education  EnvironmentSatisfaction  \\\n",
       "0   41          1                 1          2                        2   \n",
       "1   49          0                 8          1                        3   \n",
       "2   37          1                 2          2                        4   \n",
       "3   33          0                 3          4                        4   \n",
       "4   27          0                 2          1                        1   \n",
       "\n",
       "   JobSatisfaction  MonthlyIncome  NumCompaniesWorked  WorkLifeBalance  \\\n",
       "0                4           5993                   8                1   \n",
       "1                2           5130                   1                3   \n",
       "2                3           2090                   6                3   \n",
       "3                3           2909                   1                3   \n",
       "4                2           3468                   9                3   \n",
       "\n",
       "   YearsAtCompany  ...  Department_Sales  EducationField_Human Resources  \\\n",
       "0               6  ...                 1                               0   \n",
       "1              10  ...                 0                               0   \n",
       "2               0  ...                 0                               0   \n",
       "3               8  ...                 0                               0   \n",
       "4               2  ...                 0                               0   \n",
       "\n",
       "   EducationField_Life Sciences  EducationField_Marketing  \\\n",
       "0                             1                         0   \n",
       "1                             1                         0   \n",
       "2                             0                         0   \n",
       "3                             1                         0   \n",
       "4                             0                         0   \n",
       "\n",
       "   EducationField_Medical  EducationField_Other  \\\n",
       "0                       0                     0   \n",
       "1                       0                     0   \n",
       "2                       0                     1   \n",
       "3                       0                     0   \n",
       "4                       1                     0   \n",
       "\n",
       "   EducationField_Technical Degree  MaritalStatus_Divorced  \\\n",
       "0                                0                       0   \n",
       "1                                0                       0   \n",
       "2                                0                       0   \n",
       "3                                0                       0   \n",
       "4                                0                       0   \n",
       "\n",
       "   MaritalStatus_Married  MaritalStatus_Single  \n",
       "0                      0                     1  \n",
       "1                      1                     0  \n",
       "2                      0                     1  \n",
       "3                      1                     0  \n",
       "4                      1                     0  \n",
       "\n",
       "[5 rows x 22 columns]"
      ]
     },
     "execution_count": 25,
     "metadata": {},
     "output_type": "execute_result"
    }
   ],
   "source": [
    "categorical_vars = ['Department', 'EducationField', 'MaritalStatus']\n",
    "data_encoded = pd.get_dummies(myData2, columns=categorical_vars, drop_first=False)\n",
    "\n",
    "label_encoder = LabelEncoder()\n",
    "data_encoded['Attrition'] = label_encoder.fit_transform(myData2['Attrition'])\n",
    "\n",
    "data_encoded.head()"
   ]
  },
  {
   "cell_type": "code",
   "execution_count": 26,
   "id": "c90da3f3",
   "metadata": {
    "scrolled": true
   },
   "outputs": [],
   "source": [
    "y = data_encoded['Attrition']\n",
    "X = data_encoded.drop('Attrition', axis=1)\n",
    "\n",
    "X_train, X_test, y_train, y_test = train_test_split(X, y, test_size=0.4, random_state=2204)"
   ]
  },
  {
   "cell_type": "code",
   "execution_count": 27,
   "id": "39c74835",
   "metadata": {
    "scrolled": true
   },
   "outputs": [
    {
     "name": "stdout",
     "output_type": "stream",
     "text": [
      "Best Hyperparameters: {'max_depth': None, 'min_samples_leaf': 1, 'min_samples_split': 5, 'n_estimators': 200}\n",
      "Best Score: 0.8423985618900873\n"
     ]
    }
   ],
   "source": [
    "from sklearn.ensemble import RandomForestClassifier\n",
    "from sklearn.model_selection import GridSearchCV\n",
    "\n",
    "param_grid = {\n",
    "    'n_estimators': [100, 200, 300],\n",
    "    'max_depth': [None, 5, 10],\n",
    "    'min_samples_split': [2, 5, 10],\n",
    "    'min_samples_leaf': [1, 2, 4]\n",
    "}\n",
    "\n",
    "rf_model = RandomForestClassifier(random_state=2204)\n",
    "\n",
    "grid_search = GridSearchCV(rf_model, param_grid, scoring='accuracy')\n",
    "\n",
    "grid_search.fit(X_train, y_train)\n",
    "\n",
    "print(\"Best Hyperparameters:\", grid_search.best_params_)\n",
    "print(\"Best Score:\", grid_search.best_score_)"
   ]
  },
  {
   "cell_type": "code",
   "execution_count": 28,
   "id": "472f98e1",
   "metadata": {},
   "outputs": [
    {
     "data": {
      "text/plain": [
       "RandomForestClassifier(min_samples_split=5, n_estimators=200, random_state=2204)"
      ]
     },
     "execution_count": 28,
     "metadata": {},
     "output_type": "execute_result"
    }
   ],
   "source": [
    "best_rf_model = RandomForestClassifier(random_state=2204, **grid_search.best_params_)\n",
    "best_rf_model.fit(X_train, y_train)"
   ]
  },
  {
   "cell_type": "code",
   "execution_count": 29,
   "id": "d74dea87",
   "metadata": {
    "scrolled": true
   },
   "outputs": [
    {
     "name": "stdout",
     "output_type": "stream",
     "text": [
      "                              Feature  Importance\n",
      "5                       MonthlyIncome    0.171489\n",
      "0                                 Age    0.136894\n",
      "8                      YearsAtCompany    0.124561\n",
      "1                    DistanceFromHome    0.109501\n",
      "3             EnvironmentSatisfaction    0.067764\n",
      "6                  NumCompaniesWorked    0.067733\n",
      "7                     WorkLifeBalance    0.048508\n",
      "4                     JobSatisfaction    0.047527\n",
      "2                           Education    0.044938\n",
      "20               MaritalStatus_Single    0.033000\n",
      "11                   Department_Sales    0.018700\n",
      "15             EducationField_Medical    0.018428\n",
      "13       EducationField_Life Sciences    0.016325\n",
      "17    EducationField_Technical Degree    0.016085\n",
      "19              MaritalStatus_Married    0.015637\n",
      "10  Department_Research & Development    0.015584\n",
      "18             MaritalStatus_Divorced    0.014225\n",
      "14           EducationField_Marketing    0.010992\n",
      "9          Department_Human Resources    0.008558\n",
      "12     EducationField_Human Resources    0.006999\n",
      "16               EducationField_Other    0.006553\n"
     ]
    }
   ],
   "source": [
    "feature_importance = best_rf_model.feature_importances_\n",
    "importance_df = pd.DataFrame({'Feature': X_train.columns, 'Importance': feature_importance})\n",
    "importance_df = importance_df.sort_values('Importance', ascending=False)\n",
    "print(importance_df)"
   ]
  },
  {
   "cell_type": "markdown",
   "id": "9d3dcf2c",
   "metadata": {},
   "source": [
    "Interpreting feature importance in a Random Forest model:<br>\n",
    "● The feature importance score represents the relative contribution of each variable in the model's decision-making process.<br>\n",
    "● Higher feature importance values indicate that the variable has a stronger impact on the model's predictions.<br>\n",
    "● Feature importance can be interpreted as the reduction in the model's impurity (e.g., Gini impurity or entropy) achieved by splitting on that feature across all trees in the Random Forest.<br>\n",
    "● It provides insight into which variables are most influential in the model's performance and can help identify key factors driving predictions.<br>\n",
    "By analyzing the variable importance ranking, you can identify the most influential features in your Random Forest model and gain insights into which variables are most relevant for predicting the target variable.<br>"
   ]
  },
  {
   "cell_type": "code",
   "execution_count": 38,
   "id": "b857d379",
   "metadata": {
    "scrolled": true
   },
   "outputs": [
    {
     "data": {
      "image/png": "[encoded data removed]",
      "text/plain": [
       "<Figure size 432x288 with 1 Axes>"
      ]
     },
     "metadata": {
      "needs_background": "light"
     },
     "output_type": "display_data"
    }
   ],
   "source": [
    "y_pred = best_rf_model.predict(X_test)\n",
    "cm = confusion_matrix(y_pred, y_test)\n",
    "sns.heatmap(cm, square = True, fmt = 'g', annot = True, cbar = False)\n",
    "plt.xlabel('actual result')\n",
    "plt.ylabel('predicted result')\n",
    "a,b = plt.ylim()\n",
    "a+=.5\n",
    "b-=.5\n",
    "plt.ylim(a,b)\n",
    "plt.show()"
   ]
  },
  {
   "cell_type": "code",
   "execution_count": 39,
   "id": "86d488ca",
   "metadata": {},
   "outputs": [
    {
     "name": "stdout",
     "output_type": "stream",
     "text": [
      "Accuracy rate: 0.8639455782312925\n",
      "Sensitivity rate: 0.07692307692307693\n",
      "Specificity rate: 0.984313725490196\n",
      "Precision: 0.42857142857142855\n",
      "Balanced Accuracy: 0.5306184012066365\n"
     ]
    }
   ],
   "source": [
    "from sklearn.metrics import accuracy_score\n",
    "accuracy = accuracy_score(y_test, y_pred)\n",
    "print(\"Accuracy rate:\", accuracy)\n",
    "\n",
    "from sklearn.metrics import recall_score\n",
    "sensitivity = recall_score(y_test, y_pred)\n",
    "print(\"Sensitivity rate:\", sensitivity)\n",
    "\n",
    "cm2 = confusion_matrix(y_test, y_pred)\n",
    "specificity = cm2[0, 0] / (cm2[0, 0] + cm2[0, 1])\n",
    "print(\"Specificity rate:\", specificity)\n",
    "\n",
    "from sklearn.metrics import precision_score\n",
    "precision = precision_score(y_test, y_pred)\n",
    "print(\"Precision:\", precision)\n",
    "\n",
    "from sklearn.metrics import balanced_accuracy_score\n",
    "balanced_accuracy = balanced_accuracy_score(y_test, y_pred)\n",
    "print(\"Balanced Accuracy:\", balanced_accuracy)"
   ]
  },
  {
   "cell_type": "code",
   "execution_count": 40,
   "id": "0a9da9c5",
   "metadata": {},
   "outputs": [
    {
     "name": "stdout",
     "output_type": "stream",
     "text": [
      "Training Accuracy: 0.9591836734693877\n",
      "Test Accuracy: 0.8639455782312925\n"
     ]
    }
   ],
   "source": [
    "y_train_pred = best_rf_model.predict(X_train)\n",
    "train_accuracy = np.mean(y_train_pred == y_train)\n",
    "print(\"Training Accuracy:\", train_accuracy)\n",
    "print(\"Test Accuracy:\", accuracy)"
   ]
  },
  {
   "cell_type": "markdown",
   "id": "cb49d593",
   "metadata": {},
   "source": [
    "The difference between the training accuracy and the test accuracy is approximately 9.53 percentage points. It indicates that the model is performing significantly better on the training set compared to the test set. Such a difference suggests that the model may be overfitting the training data, meaning it has learned the patterns in the training set too well and is not generalizing effectively to new, unseen data."
   ]
  },
  {
   "cell_type": "code",
   "execution_count": 41,
   "id": "33ce2304",
   "metadata": {
    "scrolled": true
   },
   "outputs": [
    {
     "data": {
      "text/plain": [
       "array([0])"
      ]
     },
     "execution_count": 41,
     "metadata": {},
     "output_type": "execute_result"
    }
   ],
   "source": [
    "new_data = {'Age':20, 'DistanceFromHome':10, 'Education':2,\n",
    "'EnvironmentSatisfaction':4, 'JobSatisfaction':3, 'MonthlyIncome':5500,\n",
    "'Department_Research & Development':1, 'Department_Human Resources':0,\n",
    "'NumCompaniesWorked':3, 'WorkLifeBalance':2, 'YearsAtCompany':2,\n",
    "'Department_Sales':0, 'EducationField_Human Resources':0,\n",
    "'EducationField_Life Sciences':0, 'EducationField_Marketing':0,\n",
    "'EducationField_Medical':1, 'EducationField_Other':0,\n",
    "'EducationField_Technical Degree':0, 'MaritalStatus_Divorced':0,\n",
    "'MaritalStatus_Married':0, 'MaritalStatus_Single':1 }\n",
    "\n",
    "new_data_df = pd.DataFrame([new_data])\n",
    "\n",
    "# Predict the outcome using the trained Random Forest model\n",
    "prediction = best_rf_model.predict(new_data_df)\n",
    "prediction"
   ]
  },
  {
   "cell_type": "markdown",
   "id": "07210bc8",
   "metadata": {},
   "source": [
    "Since the last employee did not have complete information, I created a new employee, but it should be noted that his {'DistanceFromHome': 10, 'EnvironmentSatisfaction': 4, 'JobSatisfaction': 3, 'MonthlyIncome': 5500, 'NumCompaniesWorked': 3} is same as the above data. After creating all data of this employee, I input it for random forest prediction. As you can see here, my model predicts that this person will not leave. And the Logis regression above also predicts that this person will not resign. So the predictions are the same."
   ]
  },
  {
   "cell_type": "markdown",
   "id": "e6f0de6f",
   "metadata": {},
   "source": [
    "### Conclusion\n",
    "The models we built in this assignment can be very useful for a company's HR department. They can predict if an employee is likely to leave and assess how likely it is (they even have the probability). This information can help HR be proactive in addressing retention issues, providing personalized support, and making decisions to reduce attrition. By analyzing factors like job satisfaction and income, HR can understand what drives employees to leave and take steps to improve satisfaction and retention. Overall, these models enable HR to make data-driven decisions and implement effective strategies for retaining employees and improving organizational stability."
   ]
  }
 ],
 "metadata": {
  "kernelspec": {
   "display_name": "Python 3",
   "language": "python",
   "name": "python3"
  },
  "language_info": {
   "codemirror_mode": {
    "name": "ipython",
    "version": 3
   },
   "file_extension": ".py",
   "mimetype": "text/x-python",
   "name": "python",
   "nbconvert_exporter": "python",
   "pygments_lexer": "ipython3",
   "version": "3.8.8"
  }
 },
 "nbformat": 4,
 "nbformat_minor": 5
}
